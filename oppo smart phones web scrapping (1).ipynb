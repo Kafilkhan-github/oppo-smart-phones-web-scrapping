{
 "cells": [
  {
   "cell_type": "code",
   "execution_count": 11,
   "id": "00aee8e2",
   "metadata": {},
   "outputs": [
    {
     "name": "stdout",
     "output_type": "stream",
     "text": [
      "['₹32,999', '₹32,999', '₹39,999', '₹39,999', '₹54,999', '₹54,999', '₹55,990', '₹55,990', '₹41,990', '₹41,990', '₹28,890', '₹29,999', '₹29,999', '₹28,999', '₹29,999', '₹29,990', '₹38,999', '₹26,710', '₹27,184', '₹34,999', '₹34,999', '₹34,990', '₹45,999', '₹35,990']\n"
     ]
    }
   ],
   "source": [
    "import requests\n",
    "from bs4 import BeautifulSoup\n",
    "import pandas as pd\n",
    "url=\"https://www.flipkart.com/search?q=oppo%20reno10&otracker=search&otracker1=search&marketplace=FLIPKART&as-show=on&as=off\"\n",
    "phone_name=[]\n",
    "r=requests.get(url)\n",
    "htmlcontent=r.content\n",
    "soup=BeautifulSoup(htmlcontent,\"html.parser\")\n",
    "#print(soup)\n",
    "soup.prettify\n",
    "names=soup.find_all(\"div\",class_=\"_4rR01T\")\n",
    "#print(names)\n",
    "for i in range (0,len(names)):\n",
    "    phone_name.append(names[i].get_text())\n",
    "#print(phone_name)\n",
    "price=[]   \n",
    "mobile_price=soup.find_all(class_=\"_30jeq3 _1_WHN1\")\n",
    "for i in range (0,len(mobile_price)):\n",
    "    price.append(mobile_price[i].get_text())\n",
    "print(price)\n"
   ]
  },
  {
   "cell_type": "code",
   "execution_count": 25,
   "id": "c5c16e6d",
   "metadata": {},
   "outputs": [
    {
     "name": "stdout",
     "output_type": "stream",
     "text": [
      "                                      phone_name    price\n",
      "101            OPPO Reno10 5G (Ice Blue, 256 GB)  ₹32,999\n",
      "102        OPPO Reno10 5G (Silvery Grey, 256 GB)  ₹32,999\n",
      "103   OPPO Reno10 Pro 5G (Glossy Purple, 256 GB)  ₹39,999\n",
      "104    OPPO Reno10 Pro 5G (Silvery Grey, 256 GB)  ₹39,999\n",
      "105   OPPO Reno10 Pro+ 5G (Silvery Grey, 256 GB)  ₹54,999\n",
      "106  OPPO Reno10 Pro+ 5G (Glossy Purple, 256 GB)  ₹54,999\n",
      "107     OPPO Reno 10x Zoom (Ocean Green, 256 GB)  ₹55,990\n",
      "108       OPPO Reno 10x Zoom (Jet Black, 256 GB)  ₹55,990\n",
      "109     OPPO Reno 10x Zoom (Ocean Green, 128 GB)  ₹41,990\n",
      "110       OPPO Reno 10x Zoom (Jet Black, 128 GB)  ₹41,990\n",
      "111      OPPO Reno7 5G (Startrails Blue, 256 GB)  ₹28,890\n",
      "112      OPPO Reno8T 5G (Midnight Black, 128 GB)  ₹29,999\n",
      "113        OPPO Reno8T 5G (Sunrise Gold, 128 GB)  ₹29,999\n",
      "114         OPPO Reno7 5G (Starry Black, 256 GB)  ₹28,999\n",
      "115        OPPO Reno8 5G (Shimmer Black, 128 GB)  ₹29,999\n",
      "116               OPPO Reno6 5G (Aurora, 128 GB)  ₹29,990\n",
      "117         OPPO Reno8 5G (Shimmer Gold, 128 GB)  ₹38,999\n",
      "118        OPPO Reno3 Pro (Auroral Blue, 256 GB)  ₹26,710\n",
      "119      OPPO Reno3 Pro (Midnight Black, 256 GB)  ₹27,184\n",
      "120  OPPO Reno7 Pro 5G (Starlight Black, 256 GB)  ₹34,999\n",
      "121  OPPO Reno7 Pro 5G (Startrails Blue, 256 GB)  ₹34,999\n",
      "122         OPPO Reno4 Pro (Silky White, 128 GB)  ₹34,990\n",
      "123     OPPO Reno8 Pro 5G (Glazed Black, 256 GB)  ₹45,999\n",
      "124      OPPO Reno5 Pro 5G (Astral Blue, 128 GB)  ₹35,990\n"
     ]
    }
   ],
   "source": [
    "import pandas as pd\n",
    "mobile=pd.DataFrame({\"phone_name\":phone_name,\"price\":price},index=(101,102,103,104,105,106,107,108,109,110,111,112,113,114,115,116,117,118,119,120,121,122,123,124))\n",
    "print(mobile)\n"
   ]
  },
  {
   "cell_type": "code",
   "execution_count": 23,
   "id": "4fe66dea",
   "metadata": {},
   "outputs": [
    {
     "data": {
      "text/plain": [
       "'C:\\\\Users\\\\hp'"
      ]
     },
     "execution_count": 23,
     "metadata": {},
     "output_type": "execute_result"
    }
   ],
   "source": [
    "import os \n",
    "os.getcwd()"
   ]
  },
  {
   "cell_type": "code",
   "execution_count": 26,
   "id": "5ef968f7",
   "metadata": {},
   "outputs": [],
   "source": [
    "mobile.to_csv(\"Oppo phone names and prices.csv\",index= False)"
   ]
  },
  {
   "cell_type": "code",
   "execution_count": 28,
   "id": "6e598781",
   "metadata": {},
   "outputs": [
    {
     "name": "stdout",
     "output_type": "stream",
     "text": [
      "                                     phone_name    price\n",
      "0             OPPO Reno10 5G (Ice Blue, 256 GB)  ₹32,999\n",
      "1         OPPO Reno10 5G (Silvery Grey, 256 GB)  ₹32,999\n",
      "2    OPPO Reno10 Pro 5G (Glossy Purple, 256 GB)  ₹39,999\n",
      "3     OPPO Reno10 Pro 5G (Silvery Grey, 256 GB)  ₹39,999\n",
      "4    OPPO Reno10 Pro+ 5G (Silvery Grey, 256 GB)  ₹54,999\n",
      "5   OPPO Reno10 Pro+ 5G (Glossy Purple, 256 GB)  ₹54,999\n",
      "6      OPPO Reno 10x Zoom (Ocean Green, 256 GB)  ₹55,990\n",
      "7        OPPO Reno 10x Zoom (Jet Black, 256 GB)  ₹55,990\n",
      "8      OPPO Reno 10x Zoom (Ocean Green, 128 GB)  ₹41,990\n",
      "9        OPPO Reno 10x Zoom (Jet Black, 128 GB)  ₹41,990\n",
      "10      OPPO Reno7 5G (Startrails Blue, 256 GB)  ₹28,890\n",
      "11      OPPO Reno8T 5G (Midnight Black, 128 GB)  ₹29,999\n",
      "12        OPPO Reno8T 5G (Sunrise Gold, 128 GB)  ₹29,999\n",
      "13         OPPO Reno7 5G (Starry Black, 256 GB)  ₹28,999\n",
      "14        OPPO Reno8 5G (Shimmer Black, 128 GB)  ₹29,999\n",
      "15               OPPO Reno6 5G (Aurora, 128 GB)  ₹29,990\n",
      "16         OPPO Reno8 5G (Shimmer Gold, 128 GB)  ₹38,999\n",
      "17        OPPO Reno3 Pro (Auroral Blue, 256 GB)  ₹26,710\n",
      "18      OPPO Reno3 Pro (Midnight Black, 256 GB)  ₹27,184\n",
      "19  OPPO Reno7 Pro 5G (Starlight Black, 256 GB)  ₹34,999\n",
      "20  OPPO Reno7 Pro 5G (Startrails Blue, 256 GB)  ₹34,999\n",
      "21         OPPO Reno4 Pro (Silky White, 128 GB)  ₹34,990\n",
      "22     OPPO Reno8 Pro 5G (Glazed Black, 256 GB)  ₹45,999\n",
      "23      OPPO Reno5 Pro 5G (Astral Blue, 128 GB)  ₹35,990\n"
     ]
    }
   ],
   "source": [
    "mobile_info=pd.read_csv(\"Oppo phone names and prices.csv\")\n",
    "print(mobile_info)"
   ]
  }
 ],
 "metadata": {
  "kernelspec": {
   "display_name": "Python 3 (ipykernel)",
   "language": "python",
   "name": "python3"
  },
  "language_info": {
   "codemirror_mode": {
    "name": "ipython",
    "version": 3
   },
   "file_extension": ".py",
   "mimetype": "text/x-python",
   "name": "python",
   "nbconvert_exporter": "python",
   "pygments_lexer": "ipython3",
   "version": "3.11.4"
  }
 },
 "nbformat": 4,
 "nbformat_minor": 5
}
